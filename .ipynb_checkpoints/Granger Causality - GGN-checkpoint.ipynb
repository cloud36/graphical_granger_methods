{
 "cells": [
  {
   "cell_type": "markdown",
   "metadata": {},
   "source": [
    "# Graphical Granger Method: Exhaustive "
   ]
  },
  {
   "cell_type": "code",
   "execution_count": 2,
   "metadata": {},
   "outputs": [],
   "source": [
    "import numpy as np\n",
    "import pandas as pd\n",
    "import networkx as nx\n",
    "from itertools import permutations\n",
    "import graphviz\n",
    "from collections import defaultdict\n",
    "\n",
    "import matplotlib.pyplot as plt\n",
    "%matplotlib inline \n",
    "plt.rcParams[\"figure.figsize\"] = [30,10]"
   ]
  },
  {
   "cell_type": "code",
   "execution_count": 3,
   "metadata": {},
   "outputs": [],
   "source": [
    "data = pd.read_csv('output.csv')"
   ]
  },
  {
   "cell_type": "code",
   "execution_count": 4,
   "metadata": {},
   "outputs": [
    {
     "data": {
      "text/html": [
       "<div>\n",
       "<style scoped>\n",
       "    .dataframe tbody tr th:only-of-type {\n",
       "        vertical-align: middle;\n",
       "    }\n",
       "\n",
       "    .dataframe tbody tr th {\n",
       "        vertical-align: top;\n",
       "    }\n",
       "\n",
       "    .dataframe thead th {\n",
       "        text-align: right;\n",
       "    }\n",
       "</style>\n",
       "<table border=\"1\" class=\"dataframe\">\n",
       "  <thead>\n",
       "    <tr style=\"text-align: right;\">\n",
       "      <th></th>\n",
       "      <th>x1</th>\n",
       "      <th>x0</th>\n",
       "      <th>x2</th>\n",
       "      <th>x3</th>\n",
       "      <th>x4</th>\n",
       "    </tr>\n",
       "  </thead>\n",
       "  <tbody>\n",
       "    <tr>\n",
       "      <th>0</th>\n",
       "      <td>-0.100499</td>\n",
       "      <td>-1.662189</td>\n",
       "      <td>-1.350334</td>\n",
       "      <td>-1.189624</td>\n",
       "      <td>-0.043115</td>\n",
       "    </tr>\n",
       "    <tr>\n",
       "      <th>1</th>\n",
       "      <td>0.998092</td>\n",
       "      <td>-0.741303</td>\n",
       "      <td>-0.468603</td>\n",
       "      <td>-0.055062</td>\n",
       "      <td>-0.594633</td>\n",
       "    </tr>\n",
       "    <tr>\n",
       "      <th>2</th>\n",
       "      <td>0.684597</td>\n",
       "      <td>0.539278</td>\n",
       "      <td>-0.147328</td>\n",
       "      <td>0.184362</td>\n",
       "      <td>-0.728728</td>\n",
       "    </tr>\n",
       "    <tr>\n",
       "      <th>3</th>\n",
       "      <td>-1.276413</td>\n",
       "      <td>0.958720</td>\n",
       "      <td>0.059814</td>\n",
       "      <td>0.737735</td>\n",
       "      <td>0.608021</td>\n",
       "    </tr>\n",
       "    <tr>\n",
       "      <th>4</th>\n",
       "      <td>0.217208</td>\n",
       "      <td>0.112009</td>\n",
       "      <td>1.193067</td>\n",
       "      <td>-0.400950</td>\n",
       "      <td>0.243941</td>\n",
       "    </tr>\n",
       "    <tr>\n",
       "      <th>...</th>\n",
       "      <td>...</td>\n",
       "      <td>...</td>\n",
       "      <td>...</td>\n",
       "      <td>...</td>\n",
       "      <td>...</td>\n",
       "    </tr>\n",
       "    <tr>\n",
       "      <th>1005</th>\n",
       "      <td>0.212048</td>\n",
       "      <td>-0.164189</td>\n",
       "      <td>-0.034687</td>\n",
       "      <td>-0.231840</td>\n",
       "      <td>1.779268</td>\n",
       "    </tr>\n",
       "    <tr>\n",
       "      <th>1006</th>\n",
       "      <td>0.249115</td>\n",
       "      <td>2.396835</td>\n",
       "      <td>1.402381</td>\n",
       "      <td>-1.465014</td>\n",
       "      <td>0.073279</td>\n",
       "    </tr>\n",
       "    <tr>\n",
       "      <th>1007</th>\n",
       "      <td>0.324912</td>\n",
       "      <td>0.964347</td>\n",
       "      <td>-0.102053</td>\n",
       "      <td>1.043437</td>\n",
       "      <td>0.069016</td>\n",
       "    </tr>\n",
       "    <tr>\n",
       "      <th>1008</th>\n",
       "      <td>-1.038647</td>\n",
       "      <td>2.404369</td>\n",
       "      <td>0.790429</td>\n",
       "      <td>1.219525</td>\n",
       "      <td>-0.556328</td>\n",
       "    </tr>\n",
       "    <tr>\n",
       "      <th>1009</th>\n",
       "      <td>-0.519027</td>\n",
       "      <td>0.881770</td>\n",
       "      <td>-0.212747</td>\n",
       "      <td>0.326035</td>\n",
       "      <td>0.772701</td>\n",
       "    </tr>\n",
       "  </tbody>\n",
       "</table>\n",
       "<p>1010 rows × 5 columns</p>\n",
       "</div>"
      ],
      "text/plain": [
       "            x1        x0        x2        x3        x4\n",
       "0    -0.100499 -1.662189 -1.350334 -1.189624 -0.043115\n",
       "1     0.998092 -0.741303 -0.468603 -0.055062 -0.594633\n",
       "2     0.684597  0.539278 -0.147328  0.184362 -0.728728\n",
       "3    -1.276413  0.958720  0.059814  0.737735  0.608021\n",
       "4     0.217208  0.112009  1.193067 -0.400950  0.243941\n",
       "...        ...       ...       ...       ...       ...\n",
       "1005  0.212048 -0.164189 -0.034687 -0.231840  1.779268\n",
       "1006  0.249115  2.396835  1.402381 -1.465014  0.073279\n",
       "1007  0.324912  0.964347 -0.102053  1.043437  0.069016\n",
       "1008 -1.038647  2.404369  0.790429  1.219525 -0.556328\n",
       "1009 -0.519027  0.881770 -0.212747  0.326035  0.772701\n",
       "\n",
       "[1010 rows x 5 columns]"
      ]
     },
     "execution_count": 4,
     "metadata": {},
     "output_type": "execute_result"
    }
   ],
   "source": [
    "target = 'x1'\n",
    "predictors = ['x0',  'x2', 'x3', 'x4']\n",
    "data[[target] + predictors]"
   ]
  },
  {
   "cell_type": "markdown",
   "metadata": {},
   "source": [
    "Apply exhaustive use of Granger causality test.\n",
    "\n",
    "This notion is based on the idea that a cause should be helpful in predicting the future effects, beyond what can be predicted solely based on their own past values.\n",
    "\n",
    "x is said to “Granger cause” another time series y, if and only if regressing for y in terms of both past values of y and x is statistically significantly more accurate than doing so with past values of y only.\n",
    "\n",
    "Granger Causality Test\n",
    "* Y = A * y_lag\n",
    "* Y = A * y_lag + B * x_lag\n",
    "\n",
    "Compare Sum of Squared Errors distirubitons using F-test\n",
    "\n"
   ]
  },
  {
   "cell_type": "code",
   "execution_count": 6,
   "metadata": {},
   "outputs": [],
   "source": [
    "from statsmodels.regression.linear_model import OLS\n",
    "\n",
    "# Run ols on both models without and with lags of second variable\n",
    "#res2down = OLS(dta[:, 0], dtaown).fit()\n",
    "#res2djoint = OLS(dta[:, 0], dtajoint).fit()"
   ]
  },
  {
   "cell_type": "code",
   "execution_count": 29,
   "metadata": {},
   "outputs": [],
   "source": [
    "r  = OLS(data['x0'].values, data[['x0', 'x2']].values).fit()"
   ]
  },
  {
   "cell_type": "code",
   "execution_count": 32,
   "metadata": {},
   "outputs": [
    {
     "data": {
      "text/plain": [
       "7.78964317764917e-28"
      ]
     },
     "execution_count": 32,
     "metadata": {},
     "output_type": "execute_result"
    }
   ],
   "source": [
    "r.ssr"
   ]
  },
  {
   "cell_type": "code",
   "execution_count": 33,
   "metadata": {},
   "outputs": [
    {
     "data": {
      "text/plain": [
       "1008.0"
      ]
     },
     "execution_count": 33,
     "metadata": {},
     "output_type": "execute_result"
    }
   ],
   "source": [
    "r.df_resid"
   ]
  },
  {
   "cell_type": "code",
   "execution_count": 35,
   "metadata": {},
   "outputs": [
    {
     "data": {
      "text/plain": [
       "(array([  4.,  12.,  59., 176., 199., 207., 153., 124.,  67.,   9.]),\n",
       " array([-1.77635684e-15, -1.33226763e-15, -8.88178420e-16, -4.44089210e-16,\n",
       "         0.00000000e+00,  4.44089210e-16,  8.88178420e-16,  1.33226763e-15,\n",
       "         1.77635684e-15,  2.22044605e-15,  2.66453526e-15]),\n",
       " <a list of 10 Patch objects>)"
      ]
     },
     "execution_count": 35,
     "metadata": {},
     "output_type": "execute_result"
    },
    {
     "data": {
      "image/png": "[encoded data removed]",
      "text/plain": [
       "<Figure size 2160x720 with 1 Axes>"
      ]
     },
     "metadata": {
      "needs_background": "light"
     },
     "output_type": "display_data"
    }
   ],
   "source": [
    "plt.hist(r.resid)"
   ]
  },
  {
   "cell_type": "code",
   "execution_count": null,
   "metadata": {},
   "outputs": [],
   "source": [
    "from statsmodels.tsa.stattools import grangercausalitytests\n",
    "maxlag=12\n",
    "\n",
    "test = 'ssr-chi2test'\n",
    "\n",
    "def grangers_causality_matrix(data, variables, test = 'ssr_chi2test', verbose=False):\n",
    "\n",
    "    dataset = pd.DataFrame(np.zeros((len(variables), len(variables))), columns=variables, index=variables)\n",
    "\n",
    "    for c in dataset.columns:\n",
    "        for r in dataset.index:\n",
    "            test_result = grangercausalitytests(data[[r,c]], maxlag=maxlag, verbose=False)\n",
    "            p_values = [round(test_result[i+1][0][test][1],4) for i in range(maxlag)]\n",
    "            if verbose: print(f'Y = {r}, X = {c}, P Values = {p_values}')\n",
    "\n",
    "            min_p_value = np.min(p_values)\n",
    "            dataset.loc[r,c] = min_p_value\n",
    "\n",
    "    dataset.columns = [var + '_x' for var in variables]\n",
    "\n",
    "    dataset.index = [var + '_y' for var in variables]\n",
    "\n",
    "    return dataset"
   ]
  }
 ],
 "metadata": {
  "kernelspec": {
   "display_name": "Python 3",
   "language": "python",
   "name": "python3"
  },
  "language_info": {
   "codemirror_mode": {
    "name": "ipython",
    "version": 3
   },
   "file_extension": ".py",
   "mimetype": "text/x-python",
   "name": "python",
   "nbconvert_exporter": "python",
   "pygments_lexer": "ipython3",
   "version": "3.7.5"
  }
 },
 "nbformat": 4,
 "nbformat_minor": 2
}
