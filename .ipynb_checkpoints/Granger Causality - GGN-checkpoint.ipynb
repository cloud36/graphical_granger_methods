{
 "cells": [
  {
   "cell_type": "markdown",
   "metadata": {},
   "source": [
    "# Graphical Granger Method: Exhaustive "
   ]
  },
  {
   "cell_type": "code",
   "execution_count": 214,
   "metadata": {},
   "outputs": [],
   "source": [
    "import numpy as np\n",
    "import pandas as pd\n",
    "import networkx as nx\n",
    "from itertools import permutations, combinations\n",
    "from statsmodels.tsa.stattools import grangercausalitytests\n",
    "from statsmodels.regression.linear_model import OLS\n",
    "\n",
    "import graphviz\n",
    "from collections import defaultdict\n",
    "from scipy.stats import f_oneway\n",
    "\n",
    "import matplotlib.pyplot as plt\n",
    "%matplotlib inline \n",
    "plt.rcParams[\"figure.figsize\"] = [30,10]"
   ]
  },
  {
   "cell_type": "code",
   "execution_count": 151,
   "metadata": {},
   "outputs": [],
   "source": [
    "def transform(data, target, predictors, max_lag):\n",
    "    new = data[[target] + predictors]\n",
    "    ts = new.to_numpy()\n",
    "    transformed = []\n",
    "\n",
    "    max_lag = 5\n",
    "    for i in range(ts.shape[0]):\n",
    "        if i >= max_lag:\n",
    "            start = i - max_lag \n",
    "            target = ts[:,0][i]\n",
    "            regressors = []\n",
    "            for ii in range(ts.shape[1]):\n",
    "                regressors.append(list(ts[:,ii][start:i]))\n",
    "            transformed.append([target] + list(np.array(regressors).flatten()))\n",
    "\n",
    "    transformed = np.array(transformed)\n",
    "\n",
    "    y = transformed[:,0]\n",
    "    x = transformed[:,1:]\n",
    "    \n",
    "    return x, y "
   ]
  },
  {
   "cell_type": "code",
   "execution_count": 152,
   "metadata": {},
   "outputs": [],
   "source": [
    "data = pd.read_csv('output.csv')"
   ]
  },
  {
   "cell_type": "markdown",
   "metadata": {},
   "source": [
    "Apply exhaustive use of Granger causality test.\n",
    "\n",
    "This notion is based on the idea that a cause should be helpful in predicting the future effects, beyond what can be predicted solely based on their own past values.\n",
    "\n",
    "x is said to “Granger cause” another time series y, if and only if regressing for y in terms of both past values of y and x is statistically significantly more accurate than doing so with past values of y only.\n",
    "\n",
    "Granger Causality Test\n",
    "* Y = A * y_lag\n",
    "* Y = A * y_lag + B * x_lag\n",
    "\n",
    "Compare Sum of Squared Errors distirubitons using F-test\n",
    "\n"
   ]
  },
  {
   "cell_type": "code",
   "execution_count": 42,
   "metadata": {},
   "outputs": [],
   "source": [
    "\n",
    "x_incl, y_incl  = transform(data, 'x0', ['x1', 'x2', 'x3', 'x4'], 5)\n",
    "x_not_incl, y_not_incl  = transform(data, 'x0', ['x2', 'x3', 'x4'], 5)"
   ]
  },
  {
   "cell_type": "code",
   "execution_count": 50,
   "metadata": {},
   "outputs": [],
   "source": [
    "# Run OLS for included and non-included version\n",
    "r1  = OLS(y_incl, x_incl).fit()\n",
    "r2  = OLS(y_not_incl, x_not_incl).fit()"
   ]
  },
  {
   "cell_type": "code",
   "execution_count": 51,
   "metadata": {},
   "outputs": [],
   "source": [
    "# plot for fun"
   ]
  },
  {
   "cell_type": "code",
   "execution_count": 52,
   "metadata": {},
   "outputs": [
    {
     "data": {
      "text/plain": [
       "(array([  2.,  12.,  70., 148., 278., 243., 158.,  73.,  16.,   5.]),\n",
       " array([-3.56255454, -2.86485231, -2.16715008, -1.46944785, -0.77174562,\n",
       "        -0.07404339,  0.62365884,  1.32136107,  2.0190633 ,  2.71676553,\n",
       "         3.41446775]),\n",
       " <a list of 10 Patch objects>)"
      ]
     },
     "execution_count": 52,
     "metadata": {},
     "output_type": "execute_result"
    },
    {
     "data": {
      "image/png": "[encoded data removed]",
      "text/plain": [
       "<Figure size 2160x720 with 1 Axes>"
      ]
     },
     "metadata": {
      "needs_background": "light"
     },
     "output_type": "display_data"
    }
   ],
   "source": [
    "plt.hist(r1.resid)\n",
    "plt.hist(r2.resid)"
   ]
  },
  {
   "cell_type": "code",
   "execution_count": 57,
   "metadata": {},
   "outputs": [
    {
     "data": {
      "text/plain": [
       "F_onewayResult(statistic=0.01372510038084149, pvalue=0.9067495971682134)"
      ]
     },
     "execution_count": 57,
     "metadata": {},
     "output_type": "execute_result"
    }
   ],
   "source": [
    "# run f-test\n",
    "f_test = f_oneway(r1.resid, r2.resid)\n",
    "f_test"
   ]
  },
  {
   "cell_type": "code",
   "execution_count": null,
   "metadata": {},
   "outputs": [],
   "source": [
    "# now do this for all directed edges in the graph"
   ]
  },
  {
   "cell_type": "code",
   "execution_count": 97,
   "metadata": {},
   "outputs": [
    {
     "data": {
      "text/plain": [
       "'x0'"
      ]
     },
     "execution_count": 97,
     "metadata": {},
     "output_type": "execute_result"
    }
   ],
   "source": [
    "x"
   ]
  },
  {
   "cell_type": "code",
   "execution_count": 98,
   "metadata": {},
   "outputs": [
    {
     "data": {
      "text/plain": [
       "['x1', 'x2', 'x3', 'x4']"
      ]
     },
     "execution_count": 98,
     "metadata": {},
     "output_type": "execute_result"
    }
   ],
   "source": [
    "nodes"
   ]
  },
  {
   "cell_type": "code",
   "execution_count": 205,
   "metadata": {},
   "outputs": [],
   "source": [
    "fully_connected_results = list(permutations(data.columns,2))\n",
    "num_nodes = len(data.columns)\n",
    "nodes = list(data.columns)\n",
    "max_lag = 5 \n",
    "\n",
    "dag = np.eye(num_nodes,num_nodes)\n",
    "\n",
    "for edge in fully_connected_results:\n",
    "    y = edge[1]\n",
    "    x = edge[0]\n",
    "\n",
    "    sample_nodes = nodes.copy()\n",
    "    w_x = sample_nodes.copy()\n",
    "    \n",
    "    sample_nodes.remove(x)\n",
    "    wo_x = sample_nodes.copy()\n",
    "\n",
    "    x_incl, y_incl  = transform(data, y, [x], 5)\n",
    "    x_not_incl, y_not_incl  = transform(data, y, [], 5)\n",
    "    \n",
    "    # Run OLS for included and non-included version\n",
    "    r1  = OLS(y_incl, x_incl).fit()\n",
    "    r2  = OLS(y_not_incl, x_not_incl).fit()\n",
    "    \n",
    "    f_test = f_oneway(r1.resid, r2.resid)\n",
    "    # print(f_test.statistic, f_test.pvalue)\n",
    "    \n",
    "    if f_test.pvalue < .1:\n",
    "        dag[nodes.index(y)][nodes.index(x)] = 1 # f_test.pvalue "
   ]
  },
  {
   "cell_type": "code",
   "execution_count": 209,
   "metadata": {},
   "outputs": [
    {
     "data": {
      "text/plain": [
       "array([[1., 0., 0., 0., 0.],\n",
       "       [0., 1., 0., 0., 0.],\n",
       "       [1., 0., 1., 1., 0.],\n",
       "       [1., 0., 0., 1., 0.],\n",
       "       [0., 0., 0., 0., 1.]])"
      ]
     },
     "execution_count": 209,
     "metadata": {},
     "output_type": "execute_result"
    }
   ],
   "source": [
    "dag"
   ]
  },
  {
   "cell_type": "code",
   "execution_count": 210,
   "metadata": {},
   "outputs": [],
   "source": [
    "from sklearn.metrics import precision_recall_fscore_support\n",
    "from sklearn.metrics import precision_score\n",
    "from sklearn.metrics import f1_score\n",
    "from sklearn.metrics import recall_score"
   ]
  },
  {
   "cell_type": "code",
   "execution_count": 211,
   "metadata": {},
   "outputs": [
    {
     "data": {
      "text/plain": [
       "array([[1, 1, 0, 0, 0],\n",
       "       [0, 1, 0, 0, 0],\n",
       "       [0, 0, 1, 1, 0],\n",
       "       [1, 0, 0, 1, 0],\n",
       "       [0, 0, 0, 0, 1]])"
      ]
     },
     "execution_count": 211,
     "metadata": {},
     "output_type": "execute_result"
    }
   ],
   "source": [
    "true = np.array(pd.read_csv(\"true_graph.csv\"))\n",
    "true"
   ]
  },
  {
   "cell_type": "code",
   "execution_count": 213,
   "metadata": {},
   "outputs": [
    {
     "name": "stdout",
     "output_type": "stream",
     "text": [
      "Precision:  0.875\n",
      "Recal:  0.875\n",
      "F1:  0.875\n"
     ]
    }
   ],
   "source": [
    "print(\"Precision: \" , precision_score(true.flatten(), dag.flatten()))\n",
    "print(\"Recal: \" , recall_score(true.flatten(), dag.flatten()))\n",
    "print(\"F1: \" , f1_score(true.flatten(), dag.flatten()))"
   ]
  },
  {
   "cell_type": "code",
   "execution_count": 212,
   "metadata": {},
   "outputs": [],
   "source": [
    "# grangercausalitytests(data[[r,c]], maxlag=maxlag, verbose=False)"
   ]
  },
  {
   "cell_type": "code",
   "execution_count": 191,
   "metadata": {},
   "outputs": [
    {
     "data": {
      "text/plain": [
       "array([[ 5.,  3.,  1.,  4.,  2.],\n",
       "       [ 7.,  5.,  3.,  6.,  4.],\n",
       "       [ 9.,  7.,  5.,  8.,  6.],\n",
       "       [11.,  9.,  7., 10.,  8.],\n",
       "       [13., 11.,  9., 12., 10.],\n",
       "       [15., 13., 11., 14., 12.]])"
      ]
     },
     "execution_count": 191,
     "metadata": {},
     "output_type": "execute_result"
    }
   ],
   "source": [
    "# from statsmodels.tsa.tsatools import lagmat2ds\n",
    "# lagmat2ds(X, 2, trim='both', dropex=1)"
   ]
  },
  {
   "cell_type": "code",
   "execution_count": null,
   "metadata": {},
   "outputs": [],
   "source": []
  },
  {
   "cell_type": "code",
   "execution_count": null,
   "metadata": {},
   "outputs": [],
   "source": []
  },
  {
   "cell_type": "code",
   "execution_count": null,
   "metadata": {},
   "outputs": [],
   "source": []
  },
  {
   "cell_type": "code",
   "execution_count": null,
   "metadata": {},
   "outputs": [],
   "source": []
  }
 ],
 "metadata": {
  "kernelspec": {
   "display_name": "Python 3",
   "language": "python",
   "name": "python3"
  },
  "language_info": {
   "codemirror_mode": {
    "name": "ipython",
    "version": 3
   },
   "file_extension": ".py",
   "mimetype": "text/x-python",
   "name": "python",
   "nbconvert_exporter": "python",
   "pygments_lexer": "ipython3",
   "version": "3.7.5"
  }
 },
 "nbformat": 4,
 "nbformat_minor": 2
}
