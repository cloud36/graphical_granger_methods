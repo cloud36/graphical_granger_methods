{
 "cells": [
  {
   "cell_type": "markdown",
   "metadata": {},
   "source": [
    "# LASSO for Granger Causality"
   ]
  },
  {
   "cell_type": "code",
   "execution_count": 324,
   "metadata": {},
   "outputs": [],
   "source": [
    "import numpy as np\n",
    "import pandas as pd\n",
    "import networkx as nx\n",
    "from itertools import permutations\n",
    "import graphviz\n",
    "from collections import defaultdict\n",
    "\n",
    "import matplotlib.pyplot as plt\n",
    "%matplotlib inline "
   ]
  },
  {
   "cell_type": "code",
   "execution_count": 325,
   "metadata": {},
   "outputs": [],
   "source": [
    "plt.rcParams[\"figure.figsize\"] = [30,10]"
   ]
  },
  {
   "cell_type": "code",
   "execution_count": 326,
   "metadata": {},
   "outputs": [],
   "source": [
    "data = pd.read_csv('output.csv')"
   ]
  },
  {
   "cell_type": "code",
   "execution_count": 327,
   "metadata": {},
   "outputs": [
    {
     "data": {
      "text/html": [
       "<div>\n",
       "<style scoped>\n",
       "    .dataframe tbody tr th:only-of-type {\n",
       "        vertical-align: middle;\n",
       "    }\n",
       "\n",
       "    .dataframe tbody tr th {\n",
       "        vertical-align: top;\n",
       "    }\n",
       "\n",
       "    .dataframe thead th {\n",
       "        text-align: right;\n",
       "    }\n",
       "</style>\n",
       "<table border=\"1\" class=\"dataframe\">\n",
       "  <thead>\n",
       "    <tr style=\"text-align: right;\">\n",
       "      <th></th>\n",
       "      <th>x0</th>\n",
       "      <th>x1</th>\n",
       "      <th>x2</th>\n",
       "      <th>x3</th>\n",
       "      <th>x4</th>\n",
       "    </tr>\n",
       "  </thead>\n",
       "  <tbody>\n",
       "    <tr>\n",
       "      <th>0</th>\n",
       "      <td>-1.662189</td>\n",
       "      <td>-0.100499</td>\n",
       "      <td>-1.350334</td>\n",
       "      <td>-1.189624</td>\n",
       "      <td>-0.043115</td>\n",
       "    </tr>\n",
       "    <tr>\n",
       "      <th>1</th>\n",
       "      <td>-0.741303</td>\n",
       "      <td>0.998092</td>\n",
       "      <td>-0.468603</td>\n",
       "      <td>-0.055062</td>\n",
       "      <td>-0.594633</td>\n",
       "    </tr>\n",
       "    <tr>\n",
       "      <th>2</th>\n",
       "      <td>0.539278</td>\n",
       "      <td>0.684597</td>\n",
       "      <td>-0.147328</td>\n",
       "      <td>0.184362</td>\n",
       "      <td>-0.728728</td>\n",
       "    </tr>\n",
       "    <tr>\n",
       "      <th>3</th>\n",
       "      <td>0.958720</td>\n",
       "      <td>-1.276413</td>\n",
       "      <td>0.059814</td>\n",
       "      <td>0.737735</td>\n",
       "      <td>0.608021</td>\n",
       "    </tr>\n",
       "    <tr>\n",
       "      <th>4</th>\n",
       "      <td>0.112009</td>\n",
       "      <td>0.217208</td>\n",
       "      <td>1.193067</td>\n",
       "      <td>-0.400950</td>\n",
       "      <td>0.243941</td>\n",
       "    </tr>\n",
       "  </tbody>\n",
       "</table>\n",
       "</div>"
      ],
      "text/plain": [
       "         x0        x1        x2        x3        x4\n",
       "0 -1.662189 -0.100499 -1.350334 -1.189624 -0.043115\n",
       "1 -0.741303  0.998092 -0.468603 -0.055062 -0.594633\n",
       "2  0.539278  0.684597 -0.147328  0.184362 -0.728728\n",
       "3  0.958720 -1.276413  0.059814  0.737735  0.608021\n",
       "4  0.112009  0.217208  1.193067 -0.400950  0.243941"
      ]
     },
     "execution_count": 327,
     "metadata": {},
     "output_type": "execute_result"
    }
   ],
   "source": [
    "data.head()"
   ]
  },
  {
   "cell_type": "code",
   "execution_count": 328,
   "metadata": {},
   "outputs": [
    {
     "data": {
      "text/html": [
       "<div>\n",
       "<style scoped>\n",
       "    .dataframe tbody tr th:only-of-type {\n",
       "        vertical-align: middle;\n",
       "    }\n",
       "\n",
       "    .dataframe tbody tr th {\n",
       "        vertical-align: top;\n",
       "    }\n",
       "\n",
       "    .dataframe thead th {\n",
       "        text-align: right;\n",
       "    }\n",
       "</style>\n",
       "<table border=\"1\" class=\"dataframe\">\n",
       "  <thead>\n",
       "    <tr style=\"text-align: right;\">\n",
       "      <th></th>\n",
       "      <th>x1</th>\n",
       "      <th>x0</th>\n",
       "      <th>x2</th>\n",
       "      <th>x3</th>\n",
       "      <th>x4</th>\n",
       "    </tr>\n",
       "  </thead>\n",
       "  <tbody>\n",
       "    <tr>\n",
       "      <th>0</th>\n",
       "      <td>-0.100499</td>\n",
       "      <td>-1.662189</td>\n",
       "      <td>-1.350334</td>\n",
       "      <td>-1.189624</td>\n",
       "      <td>-0.043115</td>\n",
       "    </tr>\n",
       "    <tr>\n",
       "      <th>1</th>\n",
       "      <td>0.998092</td>\n",
       "      <td>-0.741303</td>\n",
       "      <td>-0.468603</td>\n",
       "      <td>-0.055062</td>\n",
       "      <td>-0.594633</td>\n",
       "    </tr>\n",
       "    <tr>\n",
       "      <th>2</th>\n",
       "      <td>0.684597</td>\n",
       "      <td>0.539278</td>\n",
       "      <td>-0.147328</td>\n",
       "      <td>0.184362</td>\n",
       "      <td>-0.728728</td>\n",
       "    </tr>\n",
       "    <tr>\n",
       "      <th>3</th>\n",
       "      <td>-1.276413</td>\n",
       "      <td>0.958720</td>\n",
       "      <td>0.059814</td>\n",
       "      <td>0.737735</td>\n",
       "      <td>0.608021</td>\n",
       "    </tr>\n",
       "    <tr>\n",
       "      <th>4</th>\n",
       "      <td>0.217208</td>\n",
       "      <td>0.112009</td>\n",
       "      <td>1.193067</td>\n",
       "      <td>-0.400950</td>\n",
       "      <td>0.243941</td>\n",
       "    </tr>\n",
       "    <tr>\n",
       "      <th>...</th>\n",
       "      <td>...</td>\n",
       "      <td>...</td>\n",
       "      <td>...</td>\n",
       "      <td>...</td>\n",
       "      <td>...</td>\n",
       "    </tr>\n",
       "    <tr>\n",
       "      <th>1005</th>\n",
       "      <td>0.212048</td>\n",
       "      <td>-0.164189</td>\n",
       "      <td>-0.034687</td>\n",
       "      <td>-0.231840</td>\n",
       "      <td>1.779268</td>\n",
       "    </tr>\n",
       "    <tr>\n",
       "      <th>1006</th>\n",
       "      <td>0.249115</td>\n",
       "      <td>2.396835</td>\n",
       "      <td>1.402381</td>\n",
       "      <td>-1.465014</td>\n",
       "      <td>0.073279</td>\n",
       "    </tr>\n",
       "    <tr>\n",
       "      <th>1007</th>\n",
       "      <td>0.324912</td>\n",
       "      <td>0.964347</td>\n",
       "      <td>-0.102053</td>\n",
       "      <td>1.043437</td>\n",
       "      <td>0.069016</td>\n",
       "    </tr>\n",
       "    <tr>\n",
       "      <th>1008</th>\n",
       "      <td>-1.038647</td>\n",
       "      <td>2.404369</td>\n",
       "      <td>0.790429</td>\n",
       "      <td>1.219525</td>\n",
       "      <td>-0.556328</td>\n",
       "    </tr>\n",
       "    <tr>\n",
       "      <th>1009</th>\n",
       "      <td>-0.519027</td>\n",
       "      <td>0.881770</td>\n",
       "      <td>-0.212747</td>\n",
       "      <td>0.326035</td>\n",
       "      <td>0.772701</td>\n",
       "    </tr>\n",
       "  </tbody>\n",
       "</table>\n",
       "<p>1010 rows × 5 columns</p>\n",
       "</div>"
      ],
      "text/plain": [
       "            x1        x0        x2        x3        x4\n",
       "0    -0.100499 -1.662189 -1.350334 -1.189624 -0.043115\n",
       "1     0.998092 -0.741303 -0.468603 -0.055062 -0.594633\n",
       "2     0.684597  0.539278 -0.147328  0.184362 -0.728728\n",
       "3    -1.276413  0.958720  0.059814  0.737735  0.608021\n",
       "4     0.217208  0.112009  1.193067 -0.400950  0.243941\n",
       "...        ...       ...       ...       ...       ...\n",
       "1005  0.212048 -0.164189 -0.034687 -0.231840  1.779268\n",
       "1006  0.249115  2.396835  1.402381 -1.465014  0.073279\n",
       "1007  0.324912  0.964347 -0.102053  1.043437  0.069016\n",
       "1008 -1.038647  2.404369  0.790429  1.219525 -0.556328\n",
       "1009 -0.519027  0.881770 -0.212747  0.326035  0.772701\n",
       "\n",
       "[1010 rows x 5 columns]"
      ]
     },
     "execution_count": 328,
     "metadata": {},
     "output_type": "execute_result"
    }
   ],
   "source": [
    "target = 'x1'\n",
    "predictors = ['x0',  'x2', 'x3', 'x4']\n",
    "data[[target] + predictors]"
   ]
  },
  {
   "cell_type": "code",
   "execution_count": 329,
   "metadata": {},
   "outputs": [],
   "source": [
    "def transform(data, target, predictors, max_lag):\n",
    "    new = data[[target] + predictors]\n",
    "    ts = new.to_numpy()\n",
    "    transformed = []\n",
    "\n",
    "    max_lag = 5\n",
    "    for i in range(ts.shape[0]):\n",
    "        if i >= max_lag:\n",
    "            start = i - max_lag \n",
    "            target = ts[:,0][i]\n",
    "            regressors = []\n",
    "            for ii in range(ts.shape[1]):\n",
    "                regressors.append(list(ts[:,ii][start:i]))\n",
    "            transformed.append([target] + list(np.array(regressors).flatten()))\n",
    "\n",
    "    transformed = np.array(transformed)\n",
    "\n",
    "    y = transformed[:,0]\n",
    "    x = transformed[:,1:]\n",
    "    \n",
    "    return x, y "
   ]
  },
  {
   "cell_type": "code",
   "execution_count": 330,
   "metadata": {},
   "outputs": [],
   "source": [
    "x, y  = transform(data, 'x0', ['x1', 'x2', 'x3', 'x4'], 5)"
   ]
  },
  {
   "cell_type": "code",
   "execution_count": 331,
   "metadata": {},
   "outputs": [],
   "source": [
    "from sklearn import linear_model\n",
    "from sklearn.linear_model import LassoCV, LassoLarsCV, LassoLarsIC"
   ]
  },
  {
   "cell_type": "code",
   "execution_count": 334,
   "metadata": {},
   "outputs": [],
   "source": [
    "def findLambda(x, y):\n",
    "    model_bic = LassoLarsIC(criterion='bic')\n",
    "    model_bic.fit(x, y)\n",
    "    return model_bic.alpha_"
   ]
  },
  {
   "cell_type": "code",
   "execution_count": 336,
   "metadata": {},
   "outputs": [],
   "source": [
    "#model_bic.criterion_"
   ]
  },
  {
   "cell_type": "code",
   "execution_count": 337,
   "metadata": {},
   "outputs": [],
   "source": [
    "#plt.plot(model_bic.alphas_, model_bic.criterion_)\n",
    "#plt.axvline(model_bic.alpha_)"
   ]
  },
  {
   "cell_type": "code",
   "execution_count": 264,
   "metadata": {},
   "outputs": [],
   "source": [
    "def lasso(x, y, l):\n",
    "    clf = linear_model.Lasso(alpha=l)\n",
    "    return clf.fit(x, y).coef_"
   ]
  },
  {
   "cell_type": "code",
   "execution_count": 363,
   "metadata": {},
   "outputs": [],
   "source": [
    "dag = np.zeros((len(data.columns), len(data.columns)))\n",
    "nodes = list(data.columns)\n",
    "max_lag=5\n",
    "\n",
    "for node in range(len(nodes)):\n",
    "    nodes_copy = nodes.copy()\n",
    "    nodes_copy.remove(nodes[node])\n",
    "\n",
    "    # transform\n",
    "    x, y  = transform(data, nodes[node], nodes_copy, max_lag)\n",
    "\n",
    "    # get coefficients\n",
    "    coefs = lasso(x, y, findLambda(x, y))\n",
    "    \n",
    "    # place indicator in DAG matrix \n",
    "    cnt=0\n",
    "    for i in list(range(0, max_lag * len(nodes), max_lag)):\n",
    "        ll = list(range(max_lag))\n",
    "        ll.remove(node)\n",
    "        if i==0:\n",
    "            if coefs[i:i+5].sum() > 0:\n",
    "                dag[node][node] = 1\n",
    "        else:\n",
    "            if coefs[i:i+5].sum() > 0:\n",
    "                dag[ll[cnt]][node] = 1\n",
    "            cnt+=1"
   ]
  },
  {
   "cell_type": "code",
   "execution_count": 364,
   "metadata": {},
   "outputs": [
    {
     "data": {
      "text/plain": [
       "array([[1., 0., 0., 1., 1.],\n",
       "       [1., 0., 0., 1., 1.],\n",
       "       [0., 0., 0., 1., 1.],\n",
       "       [0., 0., 1., 0., 0.],\n",
       "       [1., 1., 0., 0., 0.]])"
      ]
     },
     "execution_count": 364,
     "metadata": {},
     "output_type": "execute_result"
    }
   ],
   "source": [
    "dag"
   ]
  },
  {
   "cell_type": "code",
   "execution_count": 365,
   "metadata": {},
   "outputs": [
    {
     "data": {
      "text/plain": [
       "array([[1., 0., 0., 1., 1.],\n",
       "       [1., 0., 0., 1., 1.],\n",
       "       [0., 0., 0., 1., 1.],\n",
       "       [0., 0., 1., 0., 0.],\n",
       "       [1., 1., 0., 0., 0.]])"
      ]
     },
     "execution_count": 365,
     "metadata": {},
     "output_type": "execute_result"
    }
   ],
   "source": [
    "dag"
   ]
  },
  {
   "cell_type": "code",
   "execution_count": 366,
   "metadata": {},
   "outputs": [],
   "source": [
    "# Measure output graph against real graph"
   ]
  },
  {
   "cell_type": "code",
   "execution_count": 367,
   "metadata": {},
   "outputs": [],
   "source": [
    "G = nx.from_numpy_matrix(dag)"
   ]
  },
  {
   "cell_type": "code",
   "execution_count": 368,
   "metadata": {},
   "outputs": [
    {
     "data": {
      "image/svg+xml": [
       "<?xml version=\"1.0\" encoding=\"UTF-8\" standalone=\"no\"?>\n",
       "<!DOCTYPE svg PUBLIC \"-//W3C//DTD SVG 1.1//EN\"\n",
       " \"http://www.w3.org/Graphics/SVG/1.1/DTD/svg11.dtd\">\n",
       "<!-- Generated by graphviz version 2.40.1 (20161225.0304)\n",
       " -->\n",
       "<!-- Title: %3 Pages: 1 -->\n",
       "<svg width=\"161pt\" height=\"188pt\"\n",
       " viewBox=\"0.00 0.00 160.93 188.00\" xmlns=\"http://www.w3.org/2000/svg\" xmlns:xlink=\"http://www.w3.org/1999/xlink\">\n",
       "<g id=\"graph0\" class=\"graph\" transform=\"scale(1 1) rotate(0) translate(4 184)\">\n",
       "<title>%3</title>\n",
       "<polygon fill=\"#ffffff\" stroke=\"transparent\" points=\"-4,4 -4,-184 156.9304,-184 156.9304,4 -4,4\"/>\n",
       "<!-- 0 -->\n",
       "<g id=\"node1\" class=\"node\">\n",
       "<title>0</title>\n",
       "<ellipse fill=\"none\" stroke=\"#000000\" cx=\"39.4774\" cy=\"-162\" rx=\"27\" ry=\"18\"/>\n",
       "<text text-anchor=\"middle\" x=\"39.4774\" y=\"-158.3\" font-family=\"Times,serif\" font-size=\"14.00\" fill=\"#000000\">0</text>\n",
       "</g>\n",
       "<!-- 0&#45;&gt;0 -->\n",
       "<g id=\"edge1\" class=\"edge\">\n",
       "<title>0&#45;&gt;0</title>\n",
       "<path fill=\"none\" stroke=\"#000000\" d=\"M59.3724,-174.4321C72.1654,-177.6753 84.4774,-173.5313 84.4774,-162 84.4774,-153.6218 77.978,-149.1433 69.5169,-148.5644\"/>\n",
       "<polygon fill=\"#000000\" stroke=\"#000000\" points=\"68.9793,-145.1004 59.3724,-149.5679 69.6684,-152.0665 68.9793,-145.1004\"/>\n",
       "</g>\n",
       "<!-- 1 -->\n",
       "<g id=\"node2\" class=\"node\">\n",
       "<title>1</title>\n",
       "<ellipse fill=\"none\" stroke=\"#000000\" cx=\"39.4774\" cy=\"-90\" rx=\"27\" ry=\"18\"/>\n",
       "<text text-anchor=\"middle\" x=\"39.4774\" y=\"-86.3\" font-family=\"Times,serif\" font-size=\"14.00\" fill=\"#000000\">1</text>\n",
       "</g>\n",
       "<!-- 0&#45;&gt;1 -->\n",
       "<g id=\"edge4\" class=\"edge\">\n",
       "<title>0&#45;&gt;1</title>\n",
       "<path fill=\"none\" stroke=\"#000000\" d=\"M39.4774,-143.8314C39.4774,-136.131 39.4774,-126.9743 39.4774,-118.4166\"/>\n",
       "<polygon fill=\"#000000\" stroke=\"#000000\" points=\"42.9775,-118.4132 39.4774,-108.4133 35.9775,-118.4133 42.9775,-118.4132\"/>\n",
       "</g>\n",
       "<!-- 3 -->\n",
       "<g id=\"node4\" class=\"node\">\n",
       "<title>3</title>\n",
       "<ellipse fill=\"none\" stroke=\"#000000\" cx=\"111.4774\" cy=\"-18\" rx=\"27\" ry=\"18\"/>\n",
       "<text text-anchor=\"middle\" x=\"111.4774\" y=\"-14.3\" font-family=\"Times,serif\" font-size=\"14.00\" fill=\"#000000\">3</text>\n",
       "</g>\n",
       "<!-- 0&#45;&gt;3 -->\n",
       "<g id=\"edge2\" class=\"edge\">\n",
       "<title>0&#45;&gt;3</title>\n",
       "<path fill=\"none\" stroke=\"#000000\" d=\"M65.7268,-157.0711C91.5917,-150.6665 129.7336,-136.71 147.4774,-108 160.5203,-86.8961 146.6029,-60.2523 132.4509,-41.4475\"/>\n",
       "<polygon fill=\"#000000\" stroke=\"#000000\" points=\"135.0041,-39.0359 126.0281,-33.4072 129.5348,-43.4049 135.0041,-39.0359\"/>\n",
       "</g>\n",
       "<!-- 4 -->\n",
       "<g id=\"node5\" class=\"node\">\n",
       "<title>4</title>\n",
       "<ellipse fill=\"none\" stroke=\"#000000\" cx=\"39.4774\" cy=\"-18\" rx=\"27\" ry=\"18\"/>\n",
       "<text text-anchor=\"middle\" x=\"39.4774\" y=\"-14.3\" font-family=\"Times,serif\" font-size=\"14.00\" fill=\"#000000\">4</text>\n",
       "</g>\n",
       "<!-- 0&#45;&gt;4 -->\n",
       "<g id=\"edge3\" class=\"edge\">\n",
       "<title>0&#45;&gt;4</title>\n",
       "<path fill=\"none\" stroke=\"#000000\" d=\"M25.3545,-146.2844C17.2239,-136.1468 7.7873,-122.2347 3.4774,-108 -1.1591,-92.6865 -1.1591,-87.3135 3.4774,-72 6.7435,-61.2127 12.9538,-50.6108 19.3087,-41.6963\"/>\n",
       "<polygon fill=\"#000000\" stroke=\"#000000\" points=\"22.1059,-43.8001 25.3545,-33.7156 16.5261,-39.5732 22.1059,-43.8001\"/>\n",
       "</g>\n",
       "<!-- 1&#45;&gt;3 -->\n",
       "<g id=\"edge5\" class=\"edge\">\n",
       "<title>1&#45;&gt;3</title>\n",
       "<path fill=\"none\" stroke=\"#000000\" d=\"M54.7468,-74.7307C64.6744,-64.803 77.7927,-51.6847 88.9137,-40.5637\"/>\n",
       "<polygon fill=\"#000000\" stroke=\"#000000\" points=\"91.6339,-42.7933 96.2301,-33.2473 86.6841,-37.8436 91.6339,-42.7933\"/>\n",
       "</g>\n",
       "<!-- 1&#45;&gt;4 -->\n",
       "<g id=\"edge6\" class=\"edge\">\n",
       "<title>1&#45;&gt;4</title>\n",
       "<path fill=\"none\" stroke=\"#000000\" d=\"M39.4774,-71.8314C39.4774,-64.131 39.4774,-54.9743 39.4774,-46.4166\"/>\n",
       "<polygon fill=\"#000000\" stroke=\"#000000\" points=\"42.9775,-46.4132 39.4774,-36.4133 35.9775,-46.4133 42.9775,-46.4132\"/>\n",
       "</g>\n",
       "<!-- 2 -->\n",
       "<g id=\"node3\" class=\"node\">\n",
       "<title>2</title>\n",
       "<ellipse fill=\"none\" stroke=\"#000000\" cx=\"111.4774\" cy=\"-90\" rx=\"27\" ry=\"18\"/>\n",
       "<text text-anchor=\"middle\" x=\"111.4774\" y=\"-86.3\" font-family=\"Times,serif\" font-size=\"14.00\" fill=\"#000000\">2</text>\n",
       "</g>\n",
       "<!-- 2&#45;&gt;3 -->\n",
       "<g id=\"edge7\" class=\"edge\">\n",
       "<title>2&#45;&gt;3</title>\n",
       "<path fill=\"none\" stroke=\"#000000\" d=\"M111.4774,-71.8314C111.4774,-64.131 111.4774,-54.9743 111.4774,-46.4166\"/>\n",
       "<polygon fill=\"#000000\" stroke=\"#000000\" points=\"114.9775,-46.4132 111.4774,-36.4133 107.9775,-46.4133 114.9775,-46.4132\"/>\n",
       "</g>\n",
       "<!-- 2&#45;&gt;4 -->\n",
       "<g id=\"edge8\" class=\"edge\">\n",
       "<title>2&#45;&gt;4</title>\n",
       "<path fill=\"none\" stroke=\"#000000\" d=\"M96.2081,-74.7307C86.2804,-64.803 73.1621,-51.6847 62.0411,-40.5637\"/>\n",
       "<polygon fill=\"#000000\" stroke=\"#000000\" points=\"64.2707,-37.8436 54.7247,-33.2473 59.321,-42.7933 64.2707,-37.8436\"/>\n",
       "</g>\n",
       "</g>\n",
       "</svg>\n"
      ],
      "text/plain": [
       "<graphviz.dot.Digraph at 0x1a3dabd8d0>"
      ]
     },
     "execution_count": 368,
     "metadata": {},
     "output_type": "execute_result"
    }
   ],
   "source": [
    "dot = graphviz.Digraph()\n",
    "for node in G.nodes:\n",
    "    dot.node(str(node))\n",
    "for a, b in G.edges:\n",
    "    dot.edge(str(a), str(b))\n",
    "    \n",
    "dot"
   ]
  },
  {
   "cell_type": "code",
   "execution_count": 369,
   "metadata": {},
   "outputs": [],
   "source": [
    "from sklearn.metrics import precision_recall_fscore_support\n",
    "from sklearn.metrics import precision_score\n",
    "from sklearn.metrics import f1_score\n",
    "from sklearn.metrics import recall_score\n"
   ]
  },
  {
   "cell_type": "code",
   "execution_count": 370,
   "metadata": {},
   "outputs": [
    {
     "data": {
      "text/plain": [
       "array([[1, 1, 0, 0, 0],\n",
       "       [0, 1, 0, 0, 0],\n",
       "       [0, 0, 1, 1, 0],\n",
       "       [1, 0, 0, 1, 0],\n",
       "       [0, 0, 0, 0, 1]])"
      ]
     },
     "execution_count": 370,
     "metadata": {},
     "output_type": "execute_result"
    }
   ],
   "source": [
    "true = np.array(pd.read_csv(\"true_graph.csv\"))\n",
    "true"
   ]
  },
  {
   "cell_type": "code",
   "execution_count": 371,
   "metadata": {},
   "outputs": [
    {
     "name": "stdout",
     "output_type": "stream",
     "text": [
      "Precision:  0.18181818181818182\n",
      "Recal:  0.25\n",
      "F1:  0.2105263157894737\n"
     ]
    }
   ],
   "source": [
    "print(\"Precision: \" , precision_score(true.flatten(), dag.flatten()))\n",
    "print(\"Recal: \" , recall_score(true.flatten(), dag.flatten()))\n",
    "print(\"F1: \" , f1_score(true.flatten(), dag.flatten()))"
   ]
  },
  {
   "cell_type": "code",
   "execution_count": null,
   "metadata": {},
   "outputs": [],
   "source": []
  }
 ],
 "metadata": {
  "kernelspec": {
   "display_name": "Python 3",
   "language": "python",
   "name": "python3"
  },
  "language_info": {
   "codemirror_mode": {
    "name": "ipython",
    "version": 3
   },
   "file_extension": ".py",
   "mimetype": "text/x-python",
   "name": "python",
   "nbconvert_exporter": "python",
   "pygments_lexer": "ipython3",
   "version": "3.7.5"
  }
 },
 "nbformat": 4,
 "nbformat_minor": 2
}
