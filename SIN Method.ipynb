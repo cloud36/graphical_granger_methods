{
 "cells": [
  {
   "cell_type": "markdown",
   "metadata": {},
   "source": [
    "**SIN Algorithm**\n",
    "\n",
    "Intuition: Based in d-seperation. No causal relationship between X and Y, if there exists a set of variables wherein X and Y are indpendent when conditined upon.  This is main idea between PIC algorithms. \n",
    "\n",
    "\n",
    "A key fact is that the partial correlation can be computed in terms of the inverse of the covariance matrix Σ−1, known as the concentration matrix\n"
   ]
  },
  {
   "cell_type": "code",
   "execution_count": 2,
   "metadata": {},
   "outputs": [],
   "source": [
    "import numpy as np\n",
    "import pandas as pd\n",
    "import networkx as nx\n",
    "from itertools import permutations, combinations\n",
    "from statsmodels.tsa.stattools import grangercausalitytests\n",
    "from statsmodels.regression.linear_model import OLS\n",
    "\n",
    "from sklearn.metrics import precision_recall_fscore_support\n",
    "from sklearn.metrics import precision_score\n",
    "from sklearn.metrics import f1_score\n",
    "from sklearn.metrics import recall_score\n",
    "\n",
    "import graphviz\n",
    "from collections import defaultdict\n",
    "from scipy.stats import f_oneway\n",
    "\n",
    "import matplotlib.pyplot as plt\n",
    "%matplotlib inline \n",
    "plt.rcParams[\"figure.figsize\"] = [30,10]"
   ]
  },
  {
   "cell_type": "code",
   "execution_count": 3,
   "metadata": {},
   "outputs": [],
   "source": [
    "data = pd.read_csv('output.csv')"
   ]
  },
  {
   "cell_type": "code",
   "execution_count": 4,
   "metadata": {},
   "outputs": [
    {
     "data": {
      "text/plain": [
       "'\\nThe way I think to do this, which was not described in the paper, is to first do a regression of x->y to test for independence\\nthen if there is a correlation, add other variables to see if it remains. \\n'"
      ]
     },
     "execution_count": 4,
     "metadata": {},
     "output_type": "execute_result"
    }
   ],
   "source": [
    "# stupid method\n",
    "# P(A|B) = P(A); then independent\n",
    "# P(A|B) != P(A); then dependent \n",
    "\n",
    "# plt.hist(data['x0'].values)\n",
    "# plt.scatter(data['x0'].values, data['x1'].values)\n",
    "\n",
    "'''\n",
    "The way I think to do this, which was not described in the paper, is to first do a regression of x->y to test for independence\n",
    "then if there is a correlation, add other variables to see if it remains. \n",
    "'''"
   ]
  },
  {
   "cell_type": "code",
   "execution_count": 5,
   "metadata": {},
   "outputs": [],
   "source": [
    "def transform(data, target, predictors, max_lag):\n",
    "    new = data[[target] + predictors]\n",
    "    ts = new.to_numpy()\n",
    "    transformed = []\n",
    "\n",
    "    max_lag = 5\n",
    "    for i in range(ts.shape[0]):\n",
    "        if i >= max_lag:\n",
    "            start = i - max_lag \n",
    "            target = ts[:,0][i]\n",
    "            regressors = []\n",
    "            for ii in range(ts.shape[1]):\n",
    "                regressors.append(list(ts[:,ii][start:i]))\n",
    "            transformed.append([target] + list(np.array(regressors).flatten()))\n",
    "\n",
    "    transformed = np.array(transformed)\n",
    "\n",
    "    y = transformed[:,0]\n",
    "    x = transformed[:,1:]\n",
    "    \n",
    "    return x, y "
   ]
  },
  {
   "cell_type": "code",
   "execution_count": 6,
   "metadata": {},
   "outputs": [],
   "source": [
    "r1 = OLS(data['x0'].values, data['x2'].values).fit()\n",
    "r2 = OLS(data['x0'].values, data[['x1', 'x2', 'x3', 'x4']].values).fit()"
   ]
  },
  {
   "cell_type": "code",
   "execution_count": 7,
   "metadata": {},
   "outputs": [
    {
     "name": "stdout",
     "output_type": "stream",
     "text": [
      "[0.45002303]\n",
      "[ 0.02551748  0.17393629  0.70634603 -0.08420259]\n"
     ]
    }
   ],
   "source": [
    "print(r1.params)\n",
    "print(r2.params)"
   ]
  },
  {
   "cell_type": "code",
   "execution_count": 8,
   "metadata": {},
   "outputs": [
    {
     "name": "stdout",
     "output_type": "stream",
     "text": [
      "4.693864804005188e-17\n",
      "0.5446394444624337\n"
     ]
    }
   ],
   "source": [
    "print(r1.pvalues[0])\n",
    "print(r2.pvalues[0])"
   ]
  },
  {
   "cell_type": "code",
   "execution_count": 9,
   "metadata": {},
   "outputs": [],
   "source": [
    "# this method appears to work, let's check it against R SINFUL Package "
   ]
  },
  {
   "cell_type": "code",
   "execution_count": 10,
   "metadata": {},
   "outputs": [
    {
     "name": "stdout",
     "output_type": "stream",
     "text": [
      "x2 x3\n",
      "x3 x2\n"
     ]
    }
   ],
   "source": [
    "fully_connected_results = list(permutations(data.columns,2))\n",
    "num_nodes = len(data.columns)\n",
    "nodes = list(data.columns)\n",
    "max_lag = 5 \n",
    "\n",
    "dag = np.eye(num_nodes,num_nodes)\n",
    "\n",
    "for edge in fully_connected_results:\n",
    "    y = edge[1]\n",
    "    x = edge[0]\n",
    "    sample_nodes = nodes.copy()\n",
    "    sample_nodes.remove(y)\n",
    "    sample_nodes.remove(x)\n",
    "    \n",
    "    r1 = OLS(data[y].values, data[x].values).fit()\n",
    "    r2 = OLS(data[y].values, data[sample_nodes].values).fit()\n",
    "\n",
    "    if r1.pvalues[0] < .05 and r2.pvalues[0] < .05:\n",
    "        dag[nodes.index(y)][nodes.index(x)] = 1 \n",
    "        print(x, y)"
   ]
  },
  {
   "cell_type": "code",
   "execution_count": 11,
   "metadata": {},
   "outputs": [
    {
     "data": {
      "text/plain": [
       "array([[1, 1, 0, 0, 0],\n",
       "       [0, 1, 0, 0, 0],\n",
       "       [0, 0, 1, 1, 0],\n",
       "       [1, 0, 0, 1, 0],\n",
       "       [0, 0, 0, 0, 1]])"
      ]
     },
     "execution_count": 11,
     "metadata": {},
     "output_type": "execute_result"
    }
   ],
   "source": [
    "true = np.array(pd.read_csv(\"true_graph.csv\"))\n",
    "true"
   ]
  },
  {
   "cell_type": "code",
   "execution_count": 12,
   "metadata": {},
   "outputs": [
    {
     "name": "stdout",
     "output_type": "stream",
     "text": [
      "Precision:  0.8571428571428571\n",
      "Recal:  0.75\n",
      "F1:  0.7999999999999999\n"
     ]
    }
   ],
   "source": [
    "print(\"Precision: \" , precision_score(true.flatten(), dag.flatten()))\n",
    "print(\"Recal: \" , recall_score(true.flatten(), dag.flatten()))\n",
    "print(\"F1: \" , f1_score(true.flatten(), dag.flatten()))"
   ]
  },
  {
   "cell_type": "code",
   "execution_count": null,
   "metadata": {},
   "outputs": [],
   "source": []
  },
  {
   "cell_type": "code",
   "execution_count": 16,
   "metadata": {},
   "outputs": [
    {
     "data": {
      "text/plain": [
       "array([[ 2.72496872, -0.03033561,  0.33327629,  1.71371186, -0.07422836],\n",
       "       [-0.03033561,  1.02747152, -0.0134769 , -0.08111958, -0.06101146],\n",
       "       [ 0.33327629, -0.0134769 ,  1.26942155,  0.2711533 ,  0.0052886 ],\n",
       "       [ 1.71371186, -0.08111958,  0.2711533 ,  2.85888705,  0.00607256],\n",
       "       [-0.07422836, -0.06101146,  0.0052886 ,  0.00607256,  0.98319089]])"
      ]
     },
     "execution_count": 16,
     "metadata": {},
     "output_type": "execute_result"
    }
   ],
   "source": [
    "covaraince_matrix = np.cov(np.array(data).T)\n",
    "covaraince_matrix"
   ]
  },
  {
   "cell_type": "code",
   "execution_count": 15,
   "metadata": {},
   "outputs": [
    {
     "data": {
      "text/plain": [
       "array([[ 0.59959039, -0.00835192, -0.08253121, -0.35192426,  0.0473668 ],\n",
       "       [-0.00835192,  0.9791831 ,  0.00547264,  0.03214398,  0.05990424],\n",
       "       [-0.08253121,  0.00547264,  0.81544374, -0.02769267, -0.01010654],\n",
       "       [-0.35192426,  0.03214398, -0.02769267,  0.56433945, -0.0279113 ],\n",
       "       [ 0.0473668 ,  0.05990424, -0.01010654, -0.0279113 ,  1.02461664]])"
      ]
     },
     "execution_count": 15,
     "metadata": {},
     "output_type": "execute_result"
    }
   ],
   "source": [
    "np.linalg.inv(covaraince_matrix)"
   ]
  },
  {
   "cell_type": "code",
   "execution_count": null,
   "metadata": {},
   "outputs": [],
   "source": []
  }
 ],
 "metadata": {
  "kernelspec": {
   "display_name": "Python 3",
   "language": "python",
   "name": "python3"
  },
  "language_info": {
   "codemirror_mode": {
    "name": "ipython",
    "version": 3
   },
   "file_extension": ".py",
   "mimetype": "text/x-python",
   "name": "python",
   "nbconvert_exporter": "python",
   "pygments_lexer": "ipython3",
   "version": "3.7.5"
  }
 },
 "nbformat": 4,
 "nbformat_minor": 2
}
